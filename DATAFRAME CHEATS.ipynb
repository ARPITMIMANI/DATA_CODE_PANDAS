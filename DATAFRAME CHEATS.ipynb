{
 "cells": [
  {
   "cell_type": "code",
   "execution_count": 1,
   "id": "b6d58a89",
   "metadata": {},
   "outputs": [
    {
     "name": "stdout",
     "output_type": "stream",
     "text": [
      "    x  n  x*n\n",
      "1  16  1   16\n",
      "2  16  2   32\n",
      "3  16  3   48\n",
      "4  16  4   64\n",
      "5  16  5   80\n",
      "6  16  6   96\n"
     ]
    }
   ],
   "source": [
    "# CREATE DATAFRAME BY SPECIFYING VALUES FOR EACH COLUMN .\n",
    "\n",
    "import pandas as pd\n",
    "a = pd.DataFrame ( { \"x\":[16,16,16,16,16,16] , \"n\":[1,2,3,4,5,6] , \"x*n\":[16,32,48,64,80,96] } , index=[1,2,3,4,5,6] )\n",
    "print(a)"
   ]
  },
  {
   "cell_type": "code",
   "execution_count": 2,
   "id": "fb90b3eb",
   "metadata": {},
   "outputs": [
    {
     "name": "stdout",
     "output_type": "stream",
     "text": [
      "    x  n  x*n\n",
      "1  16  1   16\n",
      "2  16  2   32\n",
      "3  16  3   48\n",
      "4  16  4   64\n",
      "5  16  5   80\n",
      "6  16  6   96\n"
     ]
    }
   ],
   "source": [
    "# CREATE DATAFRAME BY SPECIFYING VALUES FOR EACH ROW .\n",
    "\n",
    "import pandas as pd\n",
    "b = pd.DataFrame ( [ [16,1,16] , [16,2,32] , [16,3,48] , [16,4,64] , [16,5,80] , [16,6,96] ]  ,\n",
    "                  index=[1,2,3,4,5,6] , columns=[\"x\",\"n\",\"x*n\"] )\n",
    "print(b)"
   ]
  },
  {
   "cell_type": "code",
   "execution_count": 3,
   "id": "bb95292b",
   "metadata": {},
   "outputs": [
    {
     "name": "stdout",
     "output_type": "stream",
     "text": [
      "              x   y  x+y\n",
      "SIZE VALUES             \n",
      "S    1       12  24   36\n",
      "     2       14  26   40\n",
      "M    1       16  28   44\n",
      "     2       18  30   48\n",
      "L    1       20  32   52\n",
      "     2       22  34   56\n"
     ]
    }
   ],
   "source": [
    "# CREATE DATAFRAME BY MULTIINDEX .\n",
    "\n",
    "import pandas as pd\n",
    "c = pd.DataFrame ( {\"x\":[12,14,16,18,20,22]  , \"y\":[24,26,28,30,32,34] , \"x+y\":[36,40,44,48,52,56] } ,\n",
    "                 index = pd.MultiIndex.from_tuples ( [ (\"S\",1) , (\"S\",2) , (\"M\",1) , (\"M\",2) , (\"L\",1) , (\"L\",2) ] , \n",
    "                 names=[\"SIZE\",\"VALUES\"] ) )\n",
    "print(c)                                    "
   ]
  },
  {
   "cell_type": "code",
   "execution_count": null,
   "id": "9dde4b86",
   "metadata": {},
   "outputs": [],
   "source": []
  }
 ],
 "metadata": {
  "kernelspec": {
   "display_name": "Python 3 (ipykernel)",
   "language": "python",
   "name": "python3"
  },
  "language_info": {
   "codemirror_mode": {
    "name": "ipython",
    "version": 3
   },
   "file_extension": ".py",
   "mimetype": "text/x-python",
   "name": "python",
   "nbconvert_exporter": "python",
   "pygments_lexer": "ipython3",
   "version": "3.10.9"
  }
 },
 "nbformat": 4,
 "nbformat_minor": 5
}
