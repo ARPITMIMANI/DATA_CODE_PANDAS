{
 "cells": [
  {
   "cell_type": "code",
   "execution_count": 1,
   "id": "62ac76d1",
   "metadata": {},
   "outputs": [
    {
     "name": "stdout",
     "output_type": "stream",
     "text": [
      "   Duration  Pulse  Maxpulse  Calories\n",
      "0        60    110       130     409.1\n",
      "1        60    117       145     479.0\n",
      "2        60    103       135     340.0\n",
      "3        45    109       175     282.4\n",
      "4        45    117       148     406.0\n"
     ]
    }
   ],
   "source": [
    "# head() IS ONE OF THE MOST USED METHOD FOR A QUICK OVERVIEW OF THE DATAFRAME .\n",
    "# head() RETURNS THE TOP N ROWS IN THE DATA FRAME .\n",
    "\n",
    "# PRINT FIRST 5 ROWS FROM THE CSV \"HEALTH_DATA.csv\" INTO DATAFRAME .\n",
    "# USING head() ARGUMENT .\n",
    "\n",
    "import pandas as pd\n",
    "df = pd.read_csv(\"HEALTH_DATA.csv\")\n",
    "print ( df.head() )"
   ]
  },
  {
   "cell_type": "code",
   "execution_count": 2,
   "id": "0eeaea5f",
   "metadata": {},
   "outputs": [
    {
     "name": "stdout",
     "output_type": "stream",
     "text": [
      "   Duration  Pulse  Maxpulse  Calories\n",
      "0        60    110       130     409.1\n",
      "1        60    117       145     479.0\n",
      "2        60    103       135     340.0\n",
      "3        45    109       175     282.4\n",
      "4        45    117       148     406.0\n",
      "5        60    102       127     300.0\n",
      "6        60    110       136     374.0\n",
      "7        45    104       134     253.3\n",
      "8        30    109       133     195.1\n",
      "9        60     98       124     269.0\n"
     ]
    }
   ],
   "source": [
    "# PRINT FIRST 10 ROWS FROM THE CSV \"HEALTH_DATA.csv\" INTO DATAFRAME .\n",
    "\n",
    "import pandas as pd\n",
    "df = pd.read_csv(\"HEALTH_DATA.csv\")\n",
    "print ( df.head(10) )"
   ]
  },
  {
   "cell_type": "code",
   "execution_count": 3,
   "id": "088928ec",
   "metadata": {},
   "outputs": [
    {
     "name": "stdout",
     "output_type": "stream",
     "text": [
      "     Duration  Pulse  Maxpulse  Calories\n",
      "164        60    105       140     290.8\n",
      "165        60    110       145     300.0\n",
      "166        60    115       145     310.2\n",
      "167        75    120       150     320.4\n",
      "168        75    125       150     330.4\n"
     ]
    }
   ],
   "source": [
    "# tail() RETURNS THE BOTTOM N ROWS IN THE DATA FRAME .\n",
    "\n",
    "# PRINT LAST 5 ROWS FROM THE CSV \"HEALTH_DATA.csv\" INTO DATAFRAME .\n",
    "# USING tail() ARGUMENT .\n",
    "\n",
    "import pandas as pd\n",
    "df = pd.read_csv(\"HEALTH_DATA.csv\")\n",
    "print ( df.tail() )"
   ]
  },
  {
   "cell_type": "code",
   "execution_count": 4,
   "id": "3839873b",
   "metadata": {},
   "outputs": [
    {
     "name": "stdout",
     "output_type": "stream",
     "text": [
      "     Duration  Pulse  Maxpulse  Calories\n",
      "159        30     80       120     240.9\n",
      "160        30     85       120     250.4\n",
      "161        45     90       130     260.4\n",
      "162        45     95       130     270.0\n",
      "163        45    100       140     280.9\n",
      "164        60    105       140     290.8\n",
      "165        60    110       145     300.0\n",
      "166        60    115       145     310.2\n",
      "167        75    120       150     320.4\n",
      "168        75    125       150     330.4\n"
     ]
    }
   ],
   "source": [
    "# PRINT LAST 10 ROWS FROM THE CSV \"HEALTH_DATA.csv\" INTO DATAFRAME .\n",
    "\n",
    "import pandas as pd\n",
    "df = pd.read_csv(\"HEALTH_DATA.csv\")\n",
    "print ( df.tail(10) )"
   ]
  },
  {
   "cell_type": "code",
   "execution_count": 5,
   "id": "2978a97d",
   "metadata": {},
   "outputs": [
    {
     "name": "stdout",
     "output_type": "stream",
     "text": [
      "<class 'pandas.core.frame.DataFrame'>\n",
      "RangeIndex: 169 entries, 0 to 168\n",
      "Data columns (total 4 columns):\n",
      " #   Column    Non-Null Count  Dtype  \n",
      "---  ------    --------------  -----  \n",
      " 0   Duration  169 non-null    int64  \n",
      " 1   Pulse     169 non-null    int64  \n",
      " 2   Maxpulse  169 non-null    int64  \n",
      " 3   Calories  164 non-null    float64\n",
      "dtypes: float64(1), int64(3)\n",
      "memory usage: 5.4 KB\n",
      "None\n"
     ]
    }
   ],
   "source": [
    "# info() IS USED TO GIVE INFORMATION ABOUT THE DATA IN THE DATAFRAME .\n",
    "# USING info() ARGUMENT .\n",
    "\n",
    "import pandas as pd\n",
    "df = pd.read_csv(\"HEALTH_DATA.csv\")\n",
    "print ( df.info() )"
   ]
  },
  {
   "cell_type": "code",
   "execution_count": 6,
   "id": "75ffe0ad",
   "metadata": {},
   "outputs": [
    {
     "name": "stdout",
     "output_type": "stream",
     "text": [
      "         Duration       Pulse    Maxpulse     Calories\n",
      "count  169.000000  169.000000  169.000000   164.000000\n",
      "mean    63.846154  107.461538  134.047337   375.790244\n",
      "std     42.299949   14.510259   16.450434   266.379919\n",
      "min     15.000000   80.000000  100.000000    50.300000\n",
      "25%     45.000000  100.000000  124.000000   250.925000\n",
      "50%     60.000000  105.000000  131.000000   318.600000\n",
      "75%     60.000000  111.000000  141.000000   387.600000\n",
      "max    300.000000  159.000000  184.000000  1860.400000\n"
     ]
    }
   ],
   "source": [
    "# USING describe() ARGUMENT .\n",
    "\n",
    "import pandas as pd\n",
    "df = pd.read_csv(\"HEALTH_DATA.csv\")\n",
    "print ( df.describe() )"
   ]
  },
  {
   "cell_type": "code",
   "execution_count": 7,
   "id": "b34abae9",
   "metadata": {},
   "outputs": [
    {
     "name": "stdout",
     "output_type": "stream",
     "text": [
      "(169, 4)\n"
     ]
    }
   ],
   "source": [
    "# USING shape ARGUMENT .\n",
    "\n",
    "import pandas as pd\n",
    "df = pd.read_csv(\"HEALTH_DATA.csv\")\n",
    "print ( df.shape )"
   ]
  },
  {
   "cell_type": "code",
   "execution_count": 8,
   "id": "ef3a1ebc",
   "metadata": {},
   "outputs": [
    {
     "name": "stdout",
     "output_type": "stream",
     "text": [
      "Index(['Duration', 'Pulse', 'Maxpulse', 'Calories'], dtype='object')\n"
     ]
    }
   ],
   "source": [
    "# USING columns ARGUMENT .\n",
    "\n",
    "import pandas as pd\n",
    "df = pd.read_csv(\"HEALTH_DATA.csv\")\n",
    "print ( df.columns )"
   ]
  },
  {
   "cell_type": "code",
   "execution_count": null,
   "id": "82465084",
   "metadata": {},
   "outputs": [],
   "source": []
  }
 ],
 "metadata": {
  "kernelspec": {
   "display_name": "Python 3 (ipykernel)",
   "language": "python",
   "name": "python3"
  },
  "language_info": {
   "codemirror_mode": {
    "name": "ipython",
    "version": 3
   },
   "file_extension": ".py",
   "mimetype": "text/x-python",
   "name": "python",
   "nbconvert_exporter": "python",
   "pygments_lexer": "ipython3",
   "version": "3.10.9"
  }
 },
 "nbformat": 4,
 "nbformat_minor": 5
}
