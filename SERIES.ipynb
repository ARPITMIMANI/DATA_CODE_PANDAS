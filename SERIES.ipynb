{
 "cells": [
  {
   "cell_type": "code",
   "execution_count": 1,
   "id": "b67c3f80",
   "metadata": {},
   "outputs": [
    {
     "name": "stdout",
     "output_type": "stream",
     "text": [
      "0      ONE\n",
      "1      TWO\n",
      "2    THREE\n",
      "3     FOUR\n",
      "4     FIVE\n",
      "5      SIX\n",
      "6    SEVEN\n",
      "7    EIGHT\n",
      "8     NINE\n",
      "9      TEN\n",
      "dtype: object\n"
     ]
    }
   ],
   "source": [
    "# SERIES : IT IS LIKE A COLUMN IN A TABLE . IT IS A ONE DIMENSIONAL ARRAY WHICH DATA OF ANY TYPE .\n",
    "# Series() IS USED TO CREATE PANDAS SERIES .\n",
    "# CREATE A SIMPLE PANDAS SERIES .\n",
    "\n",
    "import pandas as pd\n",
    "a = [ \"ONE\" , \"TWO\" , \"THREE\" , \"FOUR\" , \"FIVE\" , \"SIX\" , \"SEVEN\" , \"EIGHT\" , \"NINE\" , \"TEN\" ]\n",
    "xyz =pd.Series(a)\n",
    "print(xyz)"
   ]
  },
  {
   "cell_type": "code",
   "execution_count": 2,
   "id": "65075151",
   "metadata": {},
   "outputs": [
    {
     "name": "stdout",
     "output_type": "stream",
     "text": [
      "FIVE\n"
     ]
    }
   ],
   "source": [
    "# A LABEL CAN BE USED TO ACCESS A SPECIFIC VALUE .\n",
    "\n",
    "import pandas as pd\n",
    "a = [ \"ONE\" , \"TWO\" , \"THREE\" , \"FOUR\" , \"FIVE\" , \"SIX\" , \"SEVEN\" , \"EIGHT\" , \"NINE\" , \"TEN\" ]\n",
    "xyz = pd.Series(a)\n",
    "print(xyz[4])"
   ]
  },
  {
   "cell_type": "code",
   "execution_count": 3,
   "id": "ab86001b",
   "metadata": {},
   "outputs": [
    {
     "name": "stdout",
     "output_type": "stream",
     "text": [
      "AA    11\n",
      "BB    12\n",
      "CC    13\n",
      "DD    14\n",
      "EE    15\n",
      "FF    16\n",
      "dtype: int64\n"
     ]
    }
   ],
   "source": [
    "# CREATE A PANDAS SERIES WITH OUR OWN NAME LABELS .\n",
    "\n",
    "import pandas as pd\n",
    "b = [11,12,13,14,15,16]\n",
    "xyz = pd.Series ( b , index= [ \"AA\" , \"BB\" , \"CC\" , \"DD\" , \"EE\" , \"FF\" ] )\n",
    "print(xyz)"
   ]
  },
  {
   "cell_type": "code",
   "execution_count": 4,
   "id": "67765839",
   "metadata": {},
   "outputs": [
    {
     "name": "stdout",
     "output_type": "stream",
     "text": [
      "14\n"
     ]
    }
   ],
   "source": [
    "# ACCESS A PANDAS SERIES WITH OWN LABEL NAME .\n",
    "\n",
    "import pandas as pd\n",
    "b = [11,12,13,14,15,16]\n",
    "xyz =  pd.Series( b , index= [ \"AA\" , \"BB\" , \"CC\" , \"DD\" , \"EE\" , \"FF\" ] )\n",
    "print(xyz[\"DD\"])"
   ]
  },
  {
   "cell_type": "code",
   "execution_count": 5,
   "id": "a14d32ae",
   "metadata": {},
   "outputs": [
    {
     "name": "stdout",
     "output_type": "stream",
     "text": [
      "MONDAY       84\n",
      "TUESDAY      92\n",
      "WEDNESDAY    80\n",
      "THURSDAY     76\n",
      "FRIDAY       96\n",
      "SATURDAT     72\n",
      "SUNDAY       88\n",
      "dtype: int64\n"
     ]
    }
   ],
   "source": [
    "# WHILE CREATING A SERIES WE CAN ALSO USE KEY OR VALUE OBJECT LIKE DICTIONARY .\n",
    "# CREATE A PANDAS SERIES FROM A DICTIONARY .\n",
    "\n",
    "import pandas as pd\n",
    "c = { \"MONDAY\":84 , \"TUESDAY\":92 , \"WEDNESDAY\":80 , \"THURSDAY\":76 , \"FRIDAY\":96 , \"SATURDAT\":72 , \"SUNDAY\":88 }\n",
    "xyz = pd.Series(c)\n",
    "print(xyz)"
   ]
  },
  {
   "cell_type": "code",
   "execution_count": 6,
   "id": "c9c1b553",
   "metadata": {},
   "outputs": [
    {
     "name": "stdout",
     "output_type": "stream",
     "text": [
      "TUESDAY      92\n",
      "WEDNESDAY    80\n",
      "THURSDAY     76\n",
      "dtype: int64\n"
     ]
    }
   ],
   "source": [
    "# CREATE A PANDAS SERIES WITH DATA FROM TUESDAY , WEDNESDAY , THURSDAY ONLY .\n",
    "\n",
    "import pandas as pd\n",
    "c = { \"MONDAY\":84 , \"TUESDAY\":92 , \"WEDNESDAY\":80 , \"THURSDAY\":76 , \"FRIDAY\":96 , \"SATURDAT\":72 , \"SUNDAY\":88 }\n",
    "xyz = pd.Series ( c , index= [ \"TUESDAY\" , \"WEDNESDAY\" , \"THURSDAY\" ] )\n",
    "print(xyz)"
   ]
  },
  {
   "cell_type": "code",
   "execution_count": 7,
   "id": "fc7dbbfb",
   "metadata": {},
   "outputs": [
    {
     "name": "stdout",
     "output_type": "stream",
     "text": [
      "        DAYS  DURATION\n",
      "0     MONDAY        84\n",
      "1    TUESDAY        92\n",
      "2  WEDNESDAY        80\n",
      "3   THURSDAY        76\n",
      "4     FRIDAY        96\n",
      "5   SATURDAT        72\n",
      "6     SUNDAY        88\n"
     ]
    }
   ],
   "source": [
    "# DATAFRAME : IT IS LIKE A WHOLE TABLE . IT IS USUALLY A DATA SET IN PANDAS WITH MULTI-DIMENSIONAL .\n",
    "# DataFrame() IS USED TO CREATE PANDAS DATAFRAME .\n",
    "# CREATE A DATAFRAME FROM 2 SERIES .\n",
    "\n",
    "import pandas as pd\n",
    "d = { \"DAYS\": [ \"MONDAY\" , \"TUESDAY\" , \"WEDNESDAY\" , \"THURSDAY\" , \"FRIDAY\" , \"SATURDAT\" , \"SUNDAY\" ]  ,\n",
    "     \"DURATION\": [ 84 , 92 , 80 , 76 , 96 , 72 , 88 ] }\n",
    "xyz = pd.DataFrame(d)\n",
    "print(xyz)"
   ]
  },
  {
   "cell_type": "code",
   "execution_count": null,
   "id": "c22293be",
   "metadata": {},
   "outputs": [],
   "source": []
  }
 ],
 "metadata": {
  "kernelspec": {
   "display_name": "Python 3 (ipykernel)",
   "language": "python",
   "name": "python3"
  },
  "language_info": {
   "codemirror_mode": {
    "name": "ipython",
    "version": 3
   },
   "file_extension": ".py",
   "mimetype": "text/x-python",
   "name": "python",
   "nbconvert_exporter": "python",
   "pygments_lexer": "ipython3",
   "version": "3.10.9"
  }
 },
 "nbformat": 4,
 "nbformat_minor": 5
}
