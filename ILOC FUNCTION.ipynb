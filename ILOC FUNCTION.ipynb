{
 "cells": [
  {
   "cell_type": "code",
   "execution_count": 1,
   "id": "b99c61b7",
   "metadata": {},
   "outputs": [
    {
     "name": "stdout",
     "output_type": "stream",
     "text": [
      "   COUNTRY     CAPITAL LANGUAGE  AVG_AGE\n",
      "0   POLAND      WARSAW   POLISH       84\n",
      "1   GREECE      ATHENS    GREEK       92\n",
      "2  DENMARK  COPENHAGEN   DANISH       76\n",
      "3   SWEDEN   STOCKHOLM  SWEDISH       80\n",
      "4   RUSSIA      MOSCOW  RUSSIAN       96\n",
      "5  IRELAND      DUBLIN    IRISH       88\n"
     ]
    }
   ],
   "source": [
    "# iloc() STANDS FOR INTEGER LOCATION FUNCTION .\n",
    "# iloc() SYNTAX : pd.DataFrame.iloc [ row_index , column ] .\n",
    "\n",
    "# FOR SELECTING A SINGLE ELEMENT . SYNTAX IS : val = pd.DataFrame.iloc [ row , column ] .\n",
    "\n",
    "# FOR SELECTING A SPECIFIC ROW . SYNTAX IS : val = pd.DataFrame.iloc [ row_index ] .\n",
    "\n",
    "# FOR SELECTING A MULTIPLE ROW . SYNTAX IS : val = pd.DataFrame.iloc [ start_row : end_row ] .\n",
    "\n",
    "'''\n",
    "FOR SELECTING A SPECIFIC ROW AND SPECIFIC COLUMN .\n",
    "SYNTAX IS : val = pd.DataFrame.iloc [ [row1,row2] , [column1,column2] ] .\n",
    "'''\n",
    "\n",
    "# FOR SELECTING ALL ROWS FOR SPECIFIC COLUMN . SYNTAX IS : val = pd.DataFrame.iloc [ : , [column1,column2] ] .\n",
    "\n",
    "# CREATE A DATA FRAME .\n",
    "\n",
    "import pandas as pd\n",
    "country_info = { \"COUNTRY\": [ \"POLAND\" , \"GREECE\" , \"DENMARK\" , \"SWEDEN\" , \"RUSSIA\" , \"IRELAND\" ]  , \n",
    "                \"CAPITAL\": [ \"WARSAW\" , \"ATHENS\" , \"COPENHAGEN\" , \"STOCKHOLM\" , \"MOSCOW\" , \"DUBLIN\" ] , \n",
    "                \"LANGUAGE\": [ \"POLISH\" , \"GREEK\" , \"DANISH\" , \"SWEDISH\" , \"RUSSIAN\" , \"IRISH\" ] , \n",
    "                \"AVG_AGE\": [84,92,76,80,96,88] }\n",
    "df = pd.DataFrame(country_info)\n",
    "print(df)"
   ]
  },
  {
   "cell_type": "code",
   "execution_count": 2,
   "id": "d30f151b",
   "metadata": {},
   "outputs": [
    {
     "name": "stdout",
     "output_type": "stream",
     "text": [
      "RUSSIAN\n"
     ]
    }
   ],
   "source": [
    "# SELECT ONLY RUSSIAN .\n",
    "\n",
    "import pandas as pd\n",
    "a = df.iloc[4,2]\n",
    "print(a)"
   ]
  },
  {
   "cell_type": "code",
   "execution_count": 3,
   "id": "88646954",
   "metadata": {},
   "outputs": [
    {
     "name": "stdout",
     "output_type": "stream",
     "text": [
      "   COUNTRY     CAPITAL\n",
      "2  DENMARK  COPENHAGEN\n",
      "3   SWEDEN   STOCKHOLM\n",
      "4   RUSSIA      MOSCOW\n"
     ]
    }
   ],
   "source": [
    "# SELECT ROW FROM 2 TO 4 AND COLUMN FROM 0 TO 1 ONLY .\n",
    "\n",
    "import pandas as pd\n",
    "b = df.iloc [ 2:5 , 0:2 ]\n",
    "print(b)"
   ]
  },
  {
   "cell_type": "code",
   "execution_count": 4,
   "id": "0afa82c2",
   "metadata": {},
   "outputs": [
    {
     "name": "stdout",
     "output_type": "stream",
     "text": [
      "   COUNTRY     CAPITAL LANGUAGE  AVG_AGE\n",
      "2  DENMARK  COPENHAGEN   DANISH       76\n",
      "3   SWEDEN   STOCKHOLM  SWEDISH       80\n",
      "4   RUSSIA      MOSCOW  RUSSIAN       96\n"
     ]
    }
   ],
   "source": [
    "# SELECT ROW FROM 2 TO 4 ONLY .\n",
    "\n",
    "import pandas as pd\n",
    "c = df.iloc [ 2:5 ]\n",
    "print(c)"
   ]
  },
  {
   "cell_type": "code",
   "execution_count": 5,
   "id": "d6bee867",
   "metadata": {},
   "outputs": [
    {
     "name": "stdout",
     "output_type": "stream",
     "text": [
      "      CAPITAL LANGUAGE\n",
      "0      WARSAW   POLISH\n",
      "1      ATHENS    GREEK\n",
      "2  COPENHAGEN   DANISH\n",
      "3   STOCKHOLM  SWEDISH\n",
      "4      MOSCOW  RUSSIAN\n",
      "5      DUBLIN    IRISH\n"
     ]
    }
   ],
   "source": [
    "# SELECT COLUMN CAPITAL AND LANGUAGE ONLY .\n",
    "\n",
    "import pandas as pd\n",
    "d = df.iloc [ : , 1:3 ]\n",
    "print(d)"
   ]
  },
  {
   "cell_type": "code",
   "execution_count": 6,
   "id": "27a5ed57",
   "metadata": {},
   "outputs": [
    {
     "name": "stdout",
     "output_type": "stream",
     "text": [
      "COUNTRY        SWEDEN\n",
      "CAPITAL     STOCKHOLM\n",
      "LANGUAGE      SWEDISH\n",
      "AVG_AGE            80\n",
      "Name: 3, dtype: object\n"
     ]
    }
   ],
   "source": [
    "# SELECT ENTIRE ROW WITH INDEX 3 .\n",
    "\n",
    "import pandas as pd\n",
    "e = df.iloc[3]\n",
    "print(e)"
   ]
  },
  {
   "cell_type": "code",
   "execution_count": null,
   "id": "ee23ce56",
   "metadata": {},
   "outputs": [],
   "source": []
  }
 ],
 "metadata": {
  "kernelspec": {
   "display_name": "Python 3 (ipykernel)",
   "language": "python",
   "name": "python3"
  },
  "language_info": {
   "codemirror_mode": {
    "name": "ipython",
    "version": 3
   },
   "file_extension": ".py",
   "mimetype": "text/x-python",
   "name": "python",
   "nbconvert_exporter": "python",
   "pygments_lexer": "ipython3",
   "version": "3.10.9"
  }
 },
 "nbformat": 4,
 "nbformat_minor": 5
}
