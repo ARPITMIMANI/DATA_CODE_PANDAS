{
 "cells": [
  {
   "cell_type": "code",
   "execution_count": 1,
   "id": "28a0ebcf",
   "metadata": {},
   "outputs": [
    {
     "name": "stdout",
     "output_type": "stream",
     "text": [
      "        DAYS  DURATION\n",
      "0     MONDAY        84\n",
      "1    TUESDAY        92\n",
      "2  WEDNESDAY        80\n",
      "3   THURSDAY        76\n",
      "4     FRIDAY        96\n",
      "5   SATURDAT        72\n",
      "6     SUNDAY        88\n"
     ]
    }
   ],
   "source": [
    "# DATAFRAME : IT IS A TWO DIMENSIONAL DATA STRUCTURE LIKE TWO DIMENSIONAL ARRAY WITH TABLE INCLUDING ROWS AND COLUMNS .\n",
    "# DataFrame() IS USED TO CREATE PANDAS DATAFRAME .\n",
    "# CREATE A DATAFRAME FROM 2 SERIES .\n",
    "\n",
    "import pandas as pd\n",
    "a = { \"DAYS\": [ \"MONDAY\" , \"TUESDAY\" , \"WEDNESDAY\" , \"THURSDAY\" , \"FRIDAY\" , \"SATURDAT\" , \"SUNDAY\" ]  ,\n",
    "     \"DURATION\": [ 84 , 92 , 80 , 76 , 96 , 72 , 88 ] }\n",
    "xyz = pd.DataFrame(a)\n",
    "print(xyz)"
   ]
  },
  {
   "cell_type": "code",
   "execution_count": 2,
   "id": "89bf0b91",
   "metadata": {},
   "outputs": [
    {
     "name": "stdout",
     "output_type": "stream",
     "text": [
      "DAYS        THURSDAY\n",
      "DURATION          76\n",
      "Name: 3, dtype: object\n"
     ]
    }
   ],
   "source": [
    "# PANDAS USE loc() ATTRIBUTE TO RETURN ONE OR MORE SPECIFIED ROW .\n",
    "\n",
    "import pandas as pd\n",
    "a = { \"DAYS\": [ \"MONDAY\" , \"TUESDAY\" , \"WEDNESDAY\" , \"THURSDAY\" , \"FRIDAY\" , \"SATURDAT\" , \"SUNDAY\" ]  ,\n",
    "     \"DURATION\": [ 84 , 92 , 80 , 76 , 96 , 72 , 88 ] }\n",
    "xyz = pd.DataFrame(a)\n",
    "print(xyz.loc[3])"
   ]
  },
  {
   "cell_type": "code",
   "execution_count": 3,
   "id": "5ad697f0",
   "metadata": {},
   "outputs": [
    {
     "name": "stdout",
     "output_type": "stream",
     "text": [
      "        DAYS  DURATION\n",
      "2  WEDNESDAY        80\n",
      "3   THURSDAY        76\n",
      "4     FRIDAY        96\n"
     ]
    }
   ],
   "source": [
    "# RETURN ROW WITH INDEX 2 , 3 , 4 FROM DATAFRAME .\n",
    "\n",
    "import pandas as pd\n",
    "a = { \"DAYS\": [ \"MONDAY\" , \"TUESDAY\" , \"WEDNESDAY\" , \"THURSDAY\" , \"FRIDAY\" , \"SATURDAT\" , \"SUNDAY\" ]  ,\n",
    "     \"DURATION\": [ 84 , 92 , 80 , 76 , 96 , 72 , 88 ] }\n",
    "xyz = pd.DataFrame(a)\n",
    "print ( xyz.loc [[2,3,4]] )"
   ]
  },
  {
   "cell_type": "code",
   "execution_count": 4,
   "id": "fb1675ea",
   "metadata": {},
   "outputs": [
    {
     "name": "stdout",
     "output_type": "stream",
     "text": [
      "       DAYS  DURATION\n",
      "1   TUESDAY        92\n",
      "3  THURSDAY        76\n",
      "5  SATURDAT        72\n"
     ]
    }
   ],
   "source": [
    "# RETURN ROW WITH INDEX 1 , 3 , 5 FROM DATAFRAME .\n",
    "\n",
    "import pandas as pd\n",
    "a = { \"DAYS\": [ \"MONDAY\" , \"TUESDAY\" , \"WEDNESDAY\" , \"THURSDAY\" , \"FRIDAY\" , \"SATURDAT\" , \"SUNDAY\" ]  ,\n",
    "     \"DURATION\": [ 84 , 92 , 80 , 76 , 96 , 72 , 88 ] }\n",
    "xyz = pd.DataFrame(a)\n",
    "print ( xyz.loc [[1,3,5]] )"
   ]
  },
  {
   "cell_type": "code",
   "execution_count": 5,
   "id": "26c7c31d",
   "metadata": {},
   "outputs": [
    {
     "name": "stdout",
     "output_type": "stream",
     "text": [
      "           DAYS  DURATION\n",
      "DAY1     MONDAY        84\n",
      "DAY2    TUESDAY        92\n",
      "DAY3  WEDNESDAY        80\n",
      "DAY4   THURSDAY        76\n",
      "DAY5     FRIDAY        96\n",
      "DAY6   SATURDAT        72\n",
      "DAY7     SUNDAY        88\n"
     ]
    }
   ],
   "source": [
    "# WITH THE index() ARGUMENT WE CAN NAME OUR OWN INDEX .\n",
    "# CREATE A PANDAS DATAFRAME WITH OUR OWN INDEX NAME .\n",
    "\n",
    "import pandas as pd\n",
    "a = { \"DAYS\": [ \"MONDAY\" , \"TUESDAY\" , \"WEDNESDAY\" , \"THURSDAY\" , \"FRIDAY\" , \"SATURDAT\" , \"SUNDAY\" ]  ,\n",
    "     \"DURATION\": [ 84 , 92 , 80 , 76 , 96 , 72 , 88 ]  }\n",
    "xyz = pd.DataFrame ( a , index= [ \"DAY1\" , \"DAY2\" , \"DAY3\" , \"DAY4\" , \"DAY5\" , \"DAY6\" , \"DAY7\" ] )\n",
    "print(xyz)"
   ]
  },
  {
   "cell_type": "code",
   "execution_count": 6,
   "id": "592c6c09",
   "metadata": {},
   "outputs": [
    {
     "name": "stdout",
     "output_type": "stream",
     "text": [
      "DAYS        SATURDAT\n",
      "DURATION          72\n",
      "Name: DAY6, dtype: object\n"
     ]
    }
   ],
   "source": [
    "# ACCESS SINGLE ROW IN A PANDAS DATAFRAME WITH OWN LABEL NAME .\n",
    "\n",
    "import pandas as pd\n",
    "a = { \"DAYS\": [ \"MONDAY\" , \"TUESDAY\" , \"WEDNESDAY\" , \"THURSDAY\" , \"FRIDAY\" , \"SATURDAT\" , \"SUNDAY\" ]  ,\n",
    "     \"DURATION\": [ 84 , 92 , 80 , 76 , 96 , 72 , 88 ]  }\n",
    "xyz = pd.DataFrame ( a , index= [ \"DAY1\" , \"DAY2\" , \"DAY3\" , \"DAY4\" , \"DAY5\" , \"DAY6\" , \"DAY7\" ] )\n",
    "print ( xyz.loc[\"DAY6\"] )"
   ]
  },
  {
   "cell_type": "code",
   "execution_count": 7,
   "id": "b3784f37",
   "metadata": {},
   "outputs": [
    {
     "name": "stdout",
     "output_type": "stream",
     "text": [
      "          DAYS  DURATION\n",
      "DAY2   TUESDAY        92\n",
      "DAY4  THURSDAY        76\n",
      "DAY6  SATURDAT        72\n"
     ]
    }
   ],
   "source": [
    "# ACCESS MULTIPLE ROW IN A PANDAS DATAFRAME WITH OWN LABEL NAME .\n",
    "\n",
    "import pandas as pd\n",
    "a = { \"DAYS\": [ \"MONDAY\" , \"TUESDAY\" , \"WEDNESDAY\" , \"THURSDAY\" , \"FRIDAY\" , \"SATURDAT\" , \"SUNDAY\" ]  ,\n",
    "     \"DURATION\": [ 84 , 92 , 80 , 76 , 96 , 72 , 88 ]  }\n",
    "xyz = pd.DataFrame ( a , index= [ \"DAY1\" , \"DAY2\" , \"DAY3\" , \"DAY4\" , \"DAY5\" , \"DAY6\" , \"DAY7\" ] )\n",
    "print ( xyz.loc [[ \"DAY2\" , \"DAY4\" , \"DAY6\" ]] )"
   ]
  },
  {
   "cell_type": "code",
   "execution_count": 8,
   "id": "38066f3e",
   "metadata": {},
   "outputs": [
    {
     "name": "stdout",
     "output_type": "stream",
     "text": [
      "     Duration  Pulse  Maxpulse  Calories\n",
      "0          60    110       130     409.1\n",
      "1          60    117       145     479.0\n",
      "2          60    103       135     340.0\n",
      "3          45    109       175     282.4\n",
      "4          45    117       148     406.0\n",
      "..        ...    ...       ...       ...\n",
      "164        60    105       140     290.8\n",
      "165        60    110       145     300.0\n",
      "166        60    115       145     310.2\n",
      "167        75    120       150     320.4\n",
      "168        75    125       150     330.4\n",
      "\n",
      "[169 rows x 4 columns]\n"
     ]
    }
   ],
   "source": [
    "# LOAD THE DATA FROM THE CSV FILE \"HEALTH_DATA.csv\" INTO DATAFRAME .\n",
    "\n",
    "import pandas as pd\n",
    "b = pd.read_csv(\"HEALTH_DATA.csv\")\n",
    "print(b)"
   ]
  },
  {
   "cell_type": "code",
   "execution_count": 9,
   "id": "268eca04",
   "metadata": {},
   "outputs": [
    {
     "name": "stdout",
     "output_type": "stream",
     "text": [
      "     Duration  Pulse  Maxpulse  Calories\n",
      "0          60    110       130     409.1\n",
      "1          60    117       145     479.0\n",
      "2          60    103       135     340.0\n",
      "3          45    109       175     282.4\n",
      "4          45    117       148     406.0\n",
      "..        ...    ...       ...       ...\n",
      "164        60    105       140     290.8\n",
      "165        60    110       145     300.0\n",
      "166        60    115       145     310.2\n",
      "167        75    120       150     320.4\n",
      "168        75    125       150     330.4\n",
      "\n",
      "[169 rows x 4 columns]\n"
     ]
    }
   ],
   "source": [
    "# LOAD THE DATA FROM THE EXCEL FILE \"HEALTH_DATA.xlsx\" INTO DATAFRAME .\n",
    "\n",
    "import pandas as pd\n",
    "c = pd.read_excel(\"HEALTH_DATA.xlsx\")\n",
    "print(c)"
   ]
  },
  {
   "cell_type": "code",
   "execution_count": null,
   "id": "73f86895",
   "metadata": {},
   "outputs": [],
   "source": []
  }
 ],
 "metadata": {
  "kernelspec": {
   "display_name": "Python 3 (ipykernel)",
   "language": "python",
   "name": "python3"
  },
  "language_info": {
   "codemirror_mode": {
    "name": "ipython",
    "version": 3
   },
   "file_extension": ".py",
   "mimetype": "text/x-python",
   "name": "python",
   "nbconvert_exporter": "python",
   "pygments_lexer": "ipython3",
   "version": "3.10.9"
  }
 },
 "nbformat": 4,
 "nbformat_minor": 5
}
